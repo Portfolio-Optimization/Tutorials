{
 "cells": [
  {
   "cell_type": "markdown",
   "metadata": {},
   "source": [
    "# Quantum States and Gates as Vectors and Matrices \n",
    "Manipulating matrices is the heart of how we analyze quantum programs. In this section we'll look at some of the most common tools that can be used for this."
   ]
  },
  {
   "cell_type": "markdown",
   "metadata": {},
   "source": [
    "Z basis\n",
    "$$\n",
    "|0\\rangle = \\begin{pmatrix} 1 \\\\ 0 \\end{pmatrix} \\, \\, \\, \\, |1\\rangle =\\begin{pmatrix} 0 \\\\ 1 \\end{pmatrix}.\n",
    "$$\n",
    "\n",
    "\n",
    "X basis\n",
    "$$\n",
    "|\\pm\\rangle = \\frac{|0\\rangle \\pm|1\\rangle}{\\sqrt{2}}=\\frac{1}{\\sqrt{2}}\\begin{pmatrix} 1 \\\\ \\pm1 \\end{pmatrix}.\n",
    "$$\n",
    "\n",
    "\n",
    "Y basis\n",
    "\n",
    "$$\n",
    "|\\circlearrowright\\rangle = \\frac{ | 0 \\rangle + i | 1 \\rangle}{\\sqrt{2}} = \\frac{1}{\\sqrt{2}}\\begin{pmatrix} 1 \\\\ i \\end{pmatrix}, ~~~~ |\\circlearrowleft\\rangle = \\frac{ | 0 \\rangle -i | 1 \\rangle}{\\sqrt{2}} = \\frac{1}{\\sqrt{2}}\\begin{pmatrix} 1 \\\\ -i \\end{pmatrix}.\n",
    "$$"
   ]
  },
  {
   "cell_type": "markdown",
   "metadata": {},
   "source": [
    "\n",
    "![A qubit visualized as a ball](https://s3.us-south.cloud-object-storage.appdomain.cloud/strapi/d382d3105b154856bcb3a99656954ad2bloch.png)\n",
    "\n",
    "\n",
    "$$\n",
    "|\\psi\\rangle = \\cos{\\frac{\\theta}{2}}|0\\rangle + e^{i\\phi}\\sin{\\frac{\\theta}{2}}|1\\rangle\n",
    "$$  \n",
    "\n"
   ]
  },
  {
   "cell_type": "markdown",
   "metadata": {},
   "source": [
    "## Pauli Matrices\n",
    "$$\n",
    "X= \\begin{pmatrix} 0&1 \\\\\\\\ 1&0 \\end{pmatrix} \\hspace{2cm}\n",
    "Y= \\begin{pmatrix} 0&-i \\\\\\\\ i&0 \\end{pmatrix}\\hspace{2cm}\n",
    "Z= \\begin{pmatrix} 1&0 \\\\\\\\ 0&-1 \\end{pmatrix}\n",
    "$$\n"
   ]
  },
  {
   "cell_type": "markdown",
   "metadata": {},
   "source": [
    "## Unitary and Hermitian matrices\n",
    "Unitary matrices. All gates in quantum computing, with the exception of measurement, can be represented by unitary matrices.  \n",
    "\n",
    "\n",
    "$$\n",
    "U U^\\dagger = U^\\dagger U = 1.\n",
    "$$\n",
    "\n",
    "\n",
    "Hermitian matrices. Quantum measurements are represented by them\n",
    "\n",
    "$$\n",
    "H = H^\\dagger.\n",
    "$$\n"
   ]
  },
  {
   "cell_type": "markdown",
   "metadata": {},
   "source": [
    "## Matrices as outer products. Change of basis. Spectral decomposition\n",
    "$$\n",
    "|0\\rangle\\langle0|= \\begin{pmatrix} 1 \\\\\\\\ 0 \\end{pmatrix} \\begin{pmatrix} 1 & 0 \\end{pmatrix} = \\begin{pmatrix} 1&0 \\\\\\\\ 0&0 \\end{pmatrix},\\\\\\\\\n",
    "|0\\rangle\\langle1| = \\begin{pmatrix} 1 \\\\\\\\ 0 \\end{pmatrix} \\begin{pmatrix} 0 & 1 \\end{pmatrix} = \\begin{pmatrix} 0&1 \\\\\\\\ 0&0 \\end{pmatrix},\\\\\\\\\n",
    "|1\\rangle\\langle0| = \\begin{pmatrix} 0 \\\\\\\\ 1 \\end{pmatrix} \\begin{pmatrix} 1 & 0 \\end{pmatrix} = \\begin{pmatrix} 0&0 \\\\\\\\ 1&0 \\end{pmatrix},\\\\\\\\\n",
    "|1\\rangle\\langle1| = \\begin{pmatrix} 0 \\\\\\\\ 1 \\end{pmatrix} \\begin{pmatrix} 0 & 1 \\end{pmatrix} = \\begin{pmatrix} 0&0 \\\\\\\\ 0&1 \\end{pmatrix}.\\\\\\\\\n",
    "$$\n",
    "\n",
    "This also means that we can write any matrix purely in terms of outer products. In the examples above, we constructed the four matrices that cover each of the single elements in a single-qubit matrix, so we can write any other single-qubit matrix in terms of them.\n",
    "\n",
    "$$\n",
    "M= \\begin{pmatrix} m_{0,0}&m_{0,1} \\\\\\\\ m_{1,0}&m_{1,1} \\end{pmatrix} = m_{0,0} |0\\rangle\\langle0|+ m_{0,1} |0\\rangle\\langle1|+ m_{1,0} |1\\rangle\\langle0|+ m_{1,1} |1\\rangle\\langle1|\n",
    "$$  \n",
    "\n",
    "\n",
    "$$\n",
    "U = |u_{00}\\rangle\\langle00| + |u_{01}\\rangle\\langle01| + |u_{10}\\rangle\\langle10| +|u_{11}\\rangle\\langle11|\n",
    "$$  \n",
    "\n",
    "\n",
    "$$\n",
    "U = \\sum_j e^{ih_j} |h_j\\rangle\\langle h_j|\n",
    "$$  \n",
    "\n",
    "\n",
    "\n",
    "$$\n",
    "H = \\sum_j h_j |h_j\\rangle\\langle h_j| .\n",
    "$$  \n",
    "\n",
    "\n",
    "$$\n",
    "U(\\theta) = e^{i \\theta H}\n",
    "$$\n"
   ]
  },
  {
   "cell_type": "markdown",
   "metadata": {},
   "source": [
    "## Tensor product of matrices\n",
    "$$\n",
    "A \\otimes B=  \n",
    "\\begin{bmatrix} \n",
    "a_{11}&a_{12} \\\\ a_{21}&a_{22} \\end{bmatrix} \\otimes \\begin{bmatrix} b_{11}&b_{12} \\\\ b_{21}&b_{22} \\end{bmatrix}  = \n",
    "\\begin{bmatrix} \n",
    "a_{11}B & a_{12}B\\\\a_{21}B & a_{22}B \n",
    "\\end{bmatrix} = \n",
    "\\begin{bmatrix} a_{11}\\begin{bmatrix} b_{11}&b_{12} \\\\ b_{21}&b_{22} \\end{bmatrix} & a_{12}\\begin{bmatrix} b_{11}&b_{12} \\\\ b_{21}&b_{22} \\end{bmatrix}\\\\a_{21}\\begin{bmatrix} b_{11}&b_{12} \\\\ b_{21}&b_{22} \\end{bmatrix} & a_{22}\\begin{bmatrix} b_{11}&b_{12} \\\\ b_{21}&b_{22} \\end{bmatrix} \\end{bmatrix} \\\\=\n",
    "\\begin{bmatrix} \n",
    "a_{11}b_{11} & a_{11}b_{12} & a_{12}b_{11} & a_{12}b_{12} \\\\ \n",
    "a_{11}b_{21} & a_{11}b_{22} & a_{12}b_{21} & a_{12}b_{22} \\\\\n",
    "a_{21}b_{11} & a_{21}b_{12} & a_{22}b_{11} & a_{22}b_{12} \\\\\n",
    "a_{21}b_{21} & a_{21}b_{22} & a_{22}b_{21} & a_{22}b_{22} \n",
    "\\end{bmatrix}\n",
    "$$  \n",
    "\n",
    "$$\n",
    "Z \\otimes X=  \\begin{bmatrix} 1&0 \\\\ 0&-1 \\end{bmatrix} \\otimes \\begin{bmatrix} 0&1 \\\\ 1&0 \\end{bmatrix} = \\begin{bmatrix} 0&1&0&0 \\\\ 1&0&0&0\\\\0&0&0&-1\\\\0&0&-1&0 \\end{bmatrix}.\n",
    "$$"
   ]
  },
  {
   "cell_type": "markdown",
   "metadata": {},
   "source": [
    "## Pauli decomposition\n",
    "$$\n",
    "M= \\begin{pmatrix} m_{0,0}&m_{0,1} \\\\\\\\ m_{1,0}&m_{1,1} \\end{pmatrix} = m_{0,0} |0\\rangle\\langle0|+ m_{0,1} |0\\rangle\\langle1|+ m_{1,0} |1\\rangle\\langle0|+ m_{1,1} |1\\rangle\\langle1|\n",
    "$$\n",
    "\n",
    "Now we will see that it also possible to write them completely in terms of Pauli operators. For this, the key thing to note is that\n",
    "\n",
    "$$\n",
    "\\frac{1+Z}{2} = \\frac{1}{2}\\left[ \\begin{pmatrix} 1&0 \\\\\\\\0&1 \\end{pmatrix}+\\begin{pmatrix} 1&0 \\\\\\\\0&-1 \\end{pmatrix}\\right] = |0\\rangle\\langle0|,\\\\\\\\\\frac{1-Z}{2} = \\frac{1}{2}\\left[ \\begin{pmatrix} 1&0 \\\\\\\\0&1 \\end{pmatrix}-\\begin{pmatrix} 1&0 \\\\\\\\0&-1 \\end{pmatrix}\\right] = |1\\rangle\\langle1|\n",
    "$$\n",
    "\n",
    "This shows that $|0\\rangle\\langle0|$ and $|1\\rangle\\langle1|$ can be expressed using the identity matrix and $Z$. Now, using the property that $X|0\\rangle = |1\\rangle$, we can also produce\n",
    "\n",
    "$$\n",
    "|0\\rangle\\langle1| = |0\\rangle\\langle0|X = \\frac{1}{2}(1+Z)~X = \\frac{X+iY}{2},\\\\\\\\\n",
    "|1\\rangle\\langle0| = X|0\\rangle\\langle0| = X~\\frac{1}{2}(1+Z) = \\frac{X-iY}{2}.\n",
    "$$\n",
    "\n",
    "Since we have all the outer products, we can now use this to write the matrix in terms of Pauli matrices:\n",
    "\n",
    "$$\n",
    "M = \\frac{m_{0,0}+m_{1,1}}{2}~1~+~\\frac{m_{0,1}+m_{1,0}}{2}~X~+~i\\frac{m_{0,1}-m_{1,0}}{2}~Y~+~\\frac{m_{0,0}-m_{1,1}}{2}~Z.\n",
    "$$\n",
    "\n",
    "This example was for a general single-qubit matrix, but the a corresponding result is true also for matrices for any number of qubits. We simply start from the observation that\n",
    "\n",
    "$$\n",
    "\\left(\\frac{1+Z}{2}\\right)\\otimes\\left(\\frac{1+Z}{2}\\right)\\otimes\\ldots\\otimes\\left(\\frac{1+Z}{2}\\right) = |00\\ldots0\\rangle\\langle00\\ldots0|,\n",
    "$$\n",
    "\n",
    "and can then proceed in the same manner as above. In the end it can be shown that any matrix can be expressed in terms of tensor products of Pauli matrices:\n",
    "\n",
    "$$\n",
    "M = \\sum_{P_{n-1},\\ldots,P_0 \\in \\{1,X,Y,Z\\}} C_{P_{n-1}\\ldots,P_0}~~P_{n-1} \\otimes P_{n-2}\\otimes\\ldots\\otimes P_0.\n",
    "$$\n",
    "\n",
    "For Hermitian matrices, note that the coefficients $C_{P_{n-1}\\ldots,P_0}$ here will all be real.\n",
    "\n",
    "\n",
    "\n",
    "Now we have some powerful tools to analyze quantum operations, let's look at the operations we will need to analyze for our study of universality.\n",
    "\n",
    "## **Question:** \n",
    "$H = \\frac{1}{\\sqrt{2}}\\begin{pmatrix} 1&1 \\\\1&-1 \\end{pmatrix}, S=\\begin{pmatrix} 1&0 \\\\0&i \\end{pmatrix}, T= \\begin{pmatrix} 1&0 \\\\0&e^{i\\pi/4} \\end{pmatrix}$   \n",
    "**Express these unitaries as a sum of Pauli matrices**"
   ]
  },
  {
   "cell_type": "markdown",
   "metadata": {},
   "source": [
    "# Qiskit"
   ]
  },
  {
   "cell_type": "markdown",
   "metadata": {},
   "source": [
    "Qiskit is a package in Python for doing everything you'll ever need with quantum computing.\n",
    "\n",
    "If you don't have it already, you need to install it. Once it is installed, you need to import it.\n",
    "\n",
    "There are generally two steps to installing Qiskit. The first one is to install Anaconda, a python package that comes with almost all dependencies that you will ever need. Once you've done this, Qiskit can then be installed by running the command \n",
    "```\n",
    "pip install qiskit\n",
    "```\n",
    "in your terminal. For detailed installation instructions, refer to [the documentation page here](https://qiskit.org/documentation/install.html)."
   ]
  },
  {
   "cell_type": "code",
   "execution_count": 17,
   "metadata": {},
   "outputs": [
    {
     "data": {
      "text/plain": [
       "{'qiskit-aqua': '0.6.0', 'qiskit-ignis': '0.2.0', 'qiskit-terra': '0.9.0'}"
      ]
     },
     "execution_count": 17,
     "metadata": {},
     "output_type": "execute_result"
    }
   ],
   "source": [
    "import qiskit\n",
    "qiskit.__qiskit_version__"
   ]
  },
  {
   "cell_type": "markdown",
   "metadata": {},
   "source": [
    "### Quantum circuits"
   ]
  },
  {
   "cell_type": "code",
   "execution_count": 3,
   "metadata": {},
   "outputs": [],
   "source": [
    "from qiskit import QuantumRegister, QuantumCircuit, ClassicalRegister"
   ]
  },
  {
   "cell_type": "markdown",
   "metadata": {},
   "source": [
    "The object at the heart of Qiskit is the quantum circuit. Here's how we create one, which we will call `qc`"
   ]
  },
  {
   "cell_type": "code",
   "execution_count": 4,
   "metadata": {},
   "outputs": [],
   "source": [
    "qc = QuantumCircuit()"
   ]
  },
  {
   "cell_type": "markdown",
   "metadata": {},
   "source": [
    "### Quantum registers"
   ]
  },
  {
   "cell_type": "code",
   "execution_count": 5,
   "metadata": {},
   "outputs": [],
   "source": [
    "qr = QuantumRegister(2,'qreg')"
   ]
  },
  {
   "cell_type": "markdown",
   "metadata": {},
   "source": [
    "Giving it a name like `'qreg'` is optional.\n",
    "\n",
    "Now we can add it to the circuit using the `add_register` method, and see that it has been added by checking the `qregs` variable of the circuit object."
   ]
  },
  {
   "cell_type": "code",
   "execution_count": 6,
   "metadata": {},
   "outputs": [
    {
     "data": {
      "text/plain": [
       "[QuantumRegister(2, 'qreg')]"
      ]
     },
     "execution_count": 6,
     "metadata": {},
     "output_type": "execute_result"
    }
   ],
   "source": [
    "qc.add_register( qr )\n",
    "\n",
    "qc.qregs"
   ]
  },
  {
   "cell_type": "markdown",
   "metadata": {},
   "source": [
    "Now our circuit has some qubits, we can use another attribute of the circuit to see what it looks like: `draw()` ."
   ]
  },
  {
   "cell_type": "code",
   "execution_count": 7,
   "metadata": {},
   "outputs": [
    {
     "data": {
      "image/png": "[encoded data removed]",
      "text/plain": [
       "<Figure size 189.028x144.48 with 1 Axes>"
      ]
     },
     "execution_count": 7,
     "metadata": {},
     "output_type": "execute_result"
    }
   ],
   "source": [
    "qc.draw(output='mpl')"
   ]
  },
  {
   "cell_type": "markdown",
   "metadata": {},
   "source": [
    "Our qubits are ready to begin their journey, but are currently just sitting there in state `|0>`."
   ]
  },
  {
   "cell_type": "markdown",
   "metadata": {},
   "source": [
    "#### Applying Gates"
   ]
  },
  {
   "cell_type": "code",
   "execution_count": 8,
   "metadata": {},
   "outputs": [
    {
     "data": {
      "image/png": "[encoded data removed]",
      "text/plain": [
       "<Figure size 309.428x144.48 with 1 Axes>"
      ]
     },
     "execution_count": 8,
     "metadata": {},
     "output_type": "execute_result"
    }
   ],
   "source": [
    "qc.h( qr[0] );\n",
    "qc.cx( qr[0], qr[1] );\n",
    "qc.draw(output='mpl')"
   ]
  },
  {
   "cell_type": "markdown",
   "metadata": {},
   "source": [
    "### Question 1: what is the final states of the circuits above?"
   ]
  },
  {
   "cell_type": "code",
   "execution_count": 11,
   "metadata": {},
   "outputs": [
    {
     "data": {
      "image/png": "[encoded data removed]",
      "text/plain": [
       "<Figure size 337.12x204.68 with 1 Axes>"
      ]
     },
     "execution_count": 11,
     "metadata": {},
     "output_type": "execute_result"
    }
   ],
   "source": [
    "qc = QuantumCircuit()\n",
    "qr = QuantumRegister(3,'q')\n",
    "qc.add_register( qr )\n",
    "qc.h( qr[0] )\n",
    "qc.cx( qr[0], qr[1] )\n",
    "qc.cx( qr[1], qr[2] )\n",
    "qc.draw(output='mpl')"
   ]
  },
  {
   "cell_type": "markdown",
   "metadata": {},
   "source": [
    "### Question 2: what is the final states of the circuits above?"
   ]
  },
  {
   "cell_type": "code",
   "execution_count": 13,
   "metadata": {},
   "outputs": [
    {
     "data": {
      "image/png": "[encoded data removed]",
      "text/plain": [
       "<Figure size 397.32x144.48 with 1 Axes>"
      ]
     },
     "execution_count": 13,
     "metadata": {},
     "output_type": "execute_result"
    }
   ],
   "source": [
    "qc = QuantumCircuit()\n",
    "qr = QuantumRegister(2,'q')\n",
    "qc.add_register( qr )\n",
    "qc.h( qr[0] )\n",
    "qc.cx( qr[0], qr[1] )\n",
    "qc.cx( qr[1], qr[0] )\n",
    "qc.cx( qr[0], qr[1] )\n",
    "qc.draw(output='mpl')"
   ]
  },
  {
   "cell_type": "markdown",
   "metadata": {},
   "source": [
    "### Question 3: what is the final states of the circuits above?"
   ]
  },
  {
   "cell_type": "markdown",
   "metadata": {},
   "source": [
    "# Statevector simulator"
   ]
  },
  {
   "cell_type": "code",
   "execution_count": 11,
   "metadata": {},
   "outputs": [],
   "source": [
    "from qiskit import Aer"
   ]
  },
  {
   "cell_type": "code",
   "execution_count": 12,
   "metadata": {},
   "outputs": [],
   "source": [
    "vector_sim = Aer.get_backend('statevector_simulator')"
   ]
  },
  {
   "cell_type": "markdown",
   "metadata": {},
   "source": [
    "In Qiskit, we use *backend* to refer to the things on which quantum programs actually run (simulators or real quantum devices). To set up a job for a backend, we need to set up the corresponding backend object.\n",
    "\n",
    "The simulator we want is defined in the part of qiskit known as `Aer`. By giving the name of the simulator we want to the `get_backend()` method of Aer, we get the backend object we need. In this case, the name is `'statevector_simulator'`.\n",
    "\n",
    "A list of all possible simulators in Aer can be found using"
   ]
  },
  {
   "cell_type": "code",
   "execution_count": 13,
   "metadata": {},
   "outputs": [
    {
     "data": {
      "text/plain": [
       "[<QasmSimulator('qasm_simulator') from AerProvider()>,\n",
       " <StatevectorSimulator('statevector_simulator') from AerProvider()>,\n",
       " <UnitarySimulator('unitary_simulator') from AerProvider()>]"
      ]
     },
     "execution_count": 13,
     "metadata": {},
     "output_type": "execute_result"
    }
   ],
   "source": [
    "Aer.backends()"
   ]
  },
  {
   "cell_type": "markdown",
   "metadata": {},
   "source": [
    "All of these simulators are 'local', meaning that they run on the machine on which Qiskit is installed. Using them on your own machine can be done without signing up to the IBMQ user agreement.\n",
    "\n",
    "Running the simulation is done by Qiskit's `execute` command, which needs to be provided with the circuit to be run and the 'backend' to run it on (in this case, a simulator)."
   ]
  },
  {
   "cell_type": "code",
   "execution_count": 15,
   "metadata": {},
   "outputs": [],
   "source": [
    "from qiskit import execute"
   ]
  },
  {
   "cell_type": "code",
   "execution_count": 16,
   "metadata": {},
   "outputs": [],
   "source": [
    "job = execute( qc, vector_sim )"
   ]
  },
  {
   "cell_type": "code",
   "execution_count": 17,
   "metadata": {},
   "outputs": [
    {
     "name": "stdout",
     "output_type": "stream",
     "text": [
      "(0.7071067811865476+0j)\n",
      "0j\n",
      "0j\n",
      "(0.7071067811865475+0j)\n"
     ]
    }
   ],
   "source": [
    "ket = job.result().get_statevector()\n",
    "for amplitude in ket:\n",
    "    print(amplitude)"
   ]
  },
  {
   "cell_type": "markdown",
   "metadata": {},
   "source": [
    "This is the vector for a Bell state which is what we'd expect given the circuit.\n",
    "\n",
    "$$\\frac{\\left|00\\right\\rangle + \\left|11\\right\\rangle}{\\sqrt{2}}$$ "
   ]
  },
  {
   "cell_type": "markdown",
   "metadata": {},
   "source": [
    "### Classical registers and the qasm simulator"
   ]
  },
  {
   "cell_type": "markdown",
   "metadata": {},
   "source": [
    "In the above simulation, we got out a statevector. That's not what we'd get from a real quantum computer. For that we need measurement. And to handle measurement we need to define where the results will go. This is done with a `ClassicalRegister`. Let's define a two bit classical register, in order to measure both of our two qubits."
   ]
  },
  {
   "cell_type": "code",
   "execution_count": 20,
   "metadata": {},
   "outputs": [],
   "source": [
    "cr = ClassicalRegister(2,'creg')\n",
    "\n",
    "qc.add_register(cr)"
   ]
  },
  {
   "cell_type": "markdown",
   "metadata": {},
   "source": [
    "Now we can use the measure method of the quantum circuit. This requires two arguments: the qubit being measured, and the bit where the result is written.\n",
    "\n",
    "Let's measure both qubits, and write their results in different bits."
   ]
  },
  {
   "cell_type": "code",
   "execution_count": 21,
   "metadata": {},
   "outputs": [
    {
     "data": {
      "image/png": "[encoded data removed]",
      "text/plain": [
       "<Figure size 429.828x204.68 with 1 Axes>"
      ]
     },
     "execution_count": 21,
     "metadata": {},
     "output_type": "execute_result"
    }
   ],
   "source": [
    "qc.measure(qr[0],cr[0])\n",
    "qc.measure(qr[1],cr[1])\n",
    "\n",
    "qc.draw(output='mpl')"
   ]
  },
  {
   "cell_type": "markdown",
   "metadata": {},
   "source": [
    "Now we can run this on a local simulator whose effect is to emulate a real quantum device. For this we need to add another input to the execute function, `shots`, which determines how many times we run to circuit to take statistics. If you don't provide any `shots` value, you get the default of 1024."
   ]
  },
  {
   "cell_type": "code",
   "execution_count": 22,
   "metadata": {},
   "outputs": [],
   "source": [
    "emulator = Aer.get_backend('qasm_simulator')\n",
    "\n",
    "job = execute( qc, emulator, shots=8192 )"
   ]
  },
  {
   "cell_type": "code",
   "execution_count": 23,
   "metadata": {},
   "outputs": [
    {
     "name": "stdout",
     "output_type": "stream",
     "text": [
      "{'11': 4037, '00': 4155}\n"
     ]
    }
   ],
   "source": [
    "hist = job.result().get_counts()\n",
    "print(hist)"
   ]
  },
  {
   "cell_type": "code",
   "execution_count": 24,
   "metadata": {},
   "outputs": [
    {
     "data": {
      "image/png": "[encoded data removed]",
      "text/plain": [
       "<Figure size 504x360 with 1 Axes>"
      ]
     },
     "execution_count": 24,
     "metadata": {},
     "output_type": "execute_result"
    }
   ],
   "source": [
    "from qiskit.tools.visualization import plot_histogram\n",
    "\n",
    "plot_histogram( hist )"
   ]
  },
  {
   "cell_type": "markdown",
   "metadata": {},
   "source": [
    "## Accessing on real quantum hardware"
   ]
  },
  {
   "cell_type": "markdown",
   "metadata": {},
   "source": [
    "Backend objects can also be set up using the `IBMQ` package. The use of these requires us to [sign with an IBMQ account](https://qiskit.org/documentation/install.html#access-ibm-q-systems). Assuming the credentials are already loaded onto your computer, you sign in with"
   ]
  },
  {
   "cell_type": "code",
   "execution_count": 26,
   "metadata": {},
   "outputs": [],
   "source": [
    "from qiskit import IBMQ"
   ]
  },
  {
   "cell_type": "code",
   "execution_count": 33,
   "metadata": {},
   "outputs": [
    {
     "name": "stderr",
     "output_type": "stream",
     "text": [
      "/home/hakob/anaconda3/lib/python3.6/site-packages/qiskit/providers/ibmq/credentials/configrc.py:130: UserWarning: Credentials already present. Set overwrite=True to overwrite.\n",
      "  warnings.warn('Credentials already present. '\n"
     ]
    }
   ],
   "source": [
    "IBMQ.save_account('b96b0927aa7207dbf9d1a55e7d92277b08bec7200add08110f822ce42f1ab226add05d35bfaf14f62902871e53d5326ccfe969d23490f659d66cd3bcbb4ab5fe')"
   ]
  },
  {
   "cell_type": "code",
   "execution_count": 34,
   "metadata": {},
   "outputs": [
    {
     "data": {
      "text/plain": [
       "[<IBMQSimulator('ibmq_qasm_simulator') from IBMQ(hub='ibm-q', group='open', project='main')>,\n",
       " <IBMQBackend('ibmqx2') from IBMQ(hub='ibm-q', group='open', project='main')>,\n",
       " <IBMQBackend('ibmq_16_melbourne') from IBMQ(hub='ibm-q', group='open', project='main')>,\n",
       " <IBMQBackend('ibmq_vigo') from IBMQ(hub='ibm-q', group='open', project='main')>,\n",
       " <IBMQBackend('ibmq_ourense') from IBMQ(hub='ibm-q', group='open', project='main')>,\n",
       " <IBMQBackend('ibmq_london') from IBMQ(hub='ibm-q', group='open', project='main')>,\n",
       " <IBMQBackend('ibmq_burlington') from IBMQ(hub='ibm-q', group='open', project='main')>,\n",
       " <IBMQBackend('ibmq_essex') from IBMQ(hub='ibm-q', group='open', project='main')>]"
      ]
     },
     "execution_count": 34,
     "metadata": {},
     "output_type": "execute_result"
    }
   ],
   "source": [
    "provider = IBMQ.get_provider(hub='ibm-q')\n",
    "provider.backends()"
   ]
  },
  {
   "cell_type": "code",
   "execution_count": 35,
   "metadata": {},
   "outputs": [
    {
     "name": "stdout",
     "output_type": "stream",
     "text": [
      "BackendStatus(backend_name='ibmq_qasm_simulator', backend_version='0.0.0', operational=True, pending_jobs=2, status_msg='active')\n",
      "BackendStatus(backend_name='ibmqx2', backend_version='2.0.0', operational=True, pending_jobs=0, status_msg='active')\n",
      "BackendStatus(backend_name='ibmq_16_melbourne', backend_version='1.0.0', operational=True, pending_jobs=30, status_msg='active')\n",
      "BackendStatus(backend_name='ibmq_vigo', backend_version='1.0.1', operational=True, pending_jobs=0, status_msg='active')\n",
      "BackendStatus(backend_name='ibmq_ourense', backend_version='1.0.1', operational=True, pending_jobs=401, status_msg='active')\n",
      "BackendStatus(backend_name='ibmq_london', backend_version='1.0.0', operational=True, pending_jobs=0, status_msg='active')\n",
      "BackendStatus(backend_name='ibmq_burlington', backend_version='1.0.0', operational=True, pending_jobs=1, status_msg='active')\n",
      "BackendStatus(backend_name='ibmq_essex', backend_version='1.0.0', operational=True, pending_jobs=0, status_msg='active')\n"
     ]
    }
   ],
   "source": [
    "for backend in provider.backends():\n",
    "    print( backend.status() )"
   ]
  },
  {
   "cell_type": "code",
   "execution_count": 36,
   "metadata": {},
   "outputs": [],
   "source": [
    "real_device = provider.get_backend('ibmq_16_melbourne')"
   ]
  },
  {
   "cell_type": "code",
   "execution_count": 37,
   "metadata": {},
   "outputs": [],
   "source": [
    "properties = real_device.properties()\n",
    "coupling_map = real_device.configuration().coupling_map"
   ]
  },
  {
   "cell_type": "code",
   "execution_count": 53,
   "metadata": {},
   "outputs": [],
   "source": [
    "#coupling_map"
   ]
  },
  {
   "cell_type": "markdown",
   "metadata": {},
   "source": [
    "## Teleportation"
   ]
  },
  {
   "cell_type": "markdown",
   "metadata": {},
   "source": [
    "Alice wants to send quantum information to Bob. Specifically, suppose she wants to send the state to Bob.\n",
    "$$|\\phi⟩=α|0⟩+β|1⟩$$  \n",
    "This entails passing on information about **α** and  **β**  to Bob.\n",
    "\n",
    "<img src=\"images/teleport.png\" width='400'>\n",
    "\n",
    "There exists a theorem in quantum mechanics which states that you cannot simply make an exact copy of an unknown quantum state. This is known as the no-cloning theorem. As a result of this we can see that Alice can't simply generate a copy of $\\vert\\phi\\rangle$ and give the copy to Bob. Copying a state is only possible with a classical computation.\n",
    "\n",
    "However, by taking advantage of two classical bits and entanglement, Alice can transfer the state $\\vert\\phi\\rangle$ to Bob. We call this teleportation as at the end Bob will have $\\vert\\phi\\rangle$ and Alice won't anymore. Let's see how this works in some detail."
   ]
  },
  {
   "cell_type": "code",
   "execution_count": null,
   "metadata": {},
   "outputs": [],
   "source": []
  }
 ],
 "metadata": {
  "kernelspec": {
   "display_name": "Python 3",
   "language": "python",
   "name": "python3"
  },
  "language_info": {
   "codemirror_mode": {
    "name": "ipython",
    "version": 3
   },
   "file_extension": ".py",
   "mimetype": "text/x-python",
   "name": "python",
   "nbconvert_exporter": "python",
   "pygments_lexer": "ipython3",
   "version": "3.6.4"
  }
 },
 "nbformat": 4,
 "nbformat_minor": 2
}
